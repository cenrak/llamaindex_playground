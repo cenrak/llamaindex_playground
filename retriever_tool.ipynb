{
 "cells": [
  {
   "cell_type": "markdown",
   "metadata": {},
   "source": [
    "## Preparation"
   ]
  },
  {
   "cell_type": "code",
   "execution_count": 1,
   "metadata": {},
   "outputs": [],
   "source": [
    "import logging\n",
    "import sys\n",
    "\n",
    "logging.basicConfig(stream=sys.stdout, level=logging.INFO)\n",
    "logging.getLogger().handlers = []\n",
    "logging.getLogger().addHandler(logging.StreamHandler(stream=sys.stdout))"
   ]
  },
  {
   "cell_type": "code",
   "execution_count": 2,
   "metadata": {},
   "outputs": [],
   "source": [
    "from llama_index.core import Settings\n",
    "from llama_index.llms.openai import OpenAI\n",
    "from llama_index.embeddings.openai import OpenAIEmbedding\n",
    "\n",
    "llm = OpenAI(model=\"gpt-4o-mini\")\n",
    "embed_model = OpenAIEmbedding(model=\"text-embedding-3-small\")\n",
    "\n",
    "Settings.llm = llm\n",
    "Settings.embed_model = embed_model"
   ]
  },
  {
   "cell_type": "code",
   "execution_count": 3,
   "metadata": {},
   "outputs": [
    {
     "name": "stdout",
     "output_type": "stream",
     "text": [
      "Ignoring wrong pointing object 261 0 (offset 0)\n",
      "Ignoring wrong pointing object 296 0 (offset 0)\n",
      "Ignoring wrong pointing object 343 0 (offset 0)\n"
     ]
    }
   ],
   "source": [
    "from llama_index.core import SimpleDirectoryReader\n",
    "from llama_index.core.node_parser import SentenceSplitter\n",
    "\n",
    "reader = SimpleDirectoryReader(input_files=[\"data/saudi2030.pdf\"])\n",
    "documents = reader.load_data()\n",
    "splitter = SentenceSplitter(chunk_size=1024)\n",
    "nodes = splitter.get_nodes_from_documents(documents)"
   ]
  },
  {
   "cell_type": "code",
   "execution_count": 4,
   "metadata": {},
   "outputs": [
    {
     "name": "stdout",
     "output_type": "stream",
     "text": [
      "HTTP Request: POST https://api.openai.com/v1/embeddings \"HTTP/1.1 200 OK\"\n"
     ]
    }
   ],
   "source": [
    "from llama_index.core import VectorStoreIndex\n",
    "from llama_index.core import SummaryIndex\n",
    "\n",
    "vector_index = VectorStoreIndex(nodes)\n",
    "summary_index = SummaryIndex(nodes)"
   ]
  },
  {
   "cell_type": "markdown",
   "metadata": {},
   "source": [
    "## RetrieverTool"
   ]
  },
  {
   "cell_type": "code",
   "execution_count": 5,
   "metadata": {},
   "outputs": [],
   "source": [
    "from typing import List, Optional\n",
    "\n",
    "from llama_index.core.bridge.pydantic import Field\n",
    "from llama_index.core.postprocessor.types import BaseNodePostprocessor\n",
    "from llama_index.core.schema import MetadataMode, NodeWithScore, QueryBundle\n",
    "\n",
    "\n",
    "class SkipEvenPages(BaseNodePostprocessor):\n",
    "\n",
    "    @classmethod\n",
    "    def class_name(cls) -> str:\n",
    "        return \"SkipEvenPages\"\n",
    "\n",
    "    def _postprocess_nodes(\n",
    "        self,\n",
    "        nodes: List[NodeWithScore],\n",
    "        query_bundle: Optional[QueryBundle] = None,\n",
    "    ) -> List[NodeWithScore]:\n",
    "        _nodes = []\n",
    "\n",
    "        for n in nodes:\n",
    "            if int(n.metadata['page_label']) % 2 == 0:\n",
    "                continue\n",
    "            _nodes.append(n)\n",
    "\n",
    "        return _nodes"
   ]
  },
  {
   "cell_type": "code",
   "execution_count": null,
   "metadata": {},
   "outputs": [],
   "source": [
    "from llama_index.core.tools import RetrieverTool\n",
    "\n",
    "vector_tool = RetrieverTool.from_defaults(\n",
    "    name='Saudi 2030 Vision',\n",
    "    description='Useful for retrieving specific context of Saudi 2030 Vision',\n",
    "    retriever=vector_index.as_retriever(similarity_top_k=5),\n",
    "    node_postprocessors=[SkipEvenPages()]\n",
    ")\n",
    "\n",
    "summary_tool = RetrieverTool.from_defaults(\n",
    "    retriever=summary_index.as_retriever(similarity_top_k=5),\n",
    "    name='Saudi 2030 Vision',\n",
    "    description='Will retrieve all context of Saudi 2030 Vision',\n",
    ")"
   ]
  },
  {
   "cell_type": "code",
   "execution_count": 30,
   "metadata": {},
   "outputs": [],
   "source": [
    "from llama_index.core.selectors import LLMSingleSelector, LLMMultiSelector\n",
    "from llama_index.core.selectors import (\n",
    "    PydanticMultiSelector,\n",
    "    PydanticSingleSelector,\n",
    ")\n",
    "from llama_index.core.retrievers import RouterRetriever\n",
    "\n",
    "retriever = RouterRetriever(\n",
    "    selector=PydanticSingleSelector.from_defaults(),\n",
    "    retriever_tools=[\n",
    "        summary_tool,\n",
    "        vector_tool,\n",
    "    ],\n",
    ")"
   ]
  },
  {
   "cell_type": "code",
   "execution_count": 28,
   "metadata": {},
   "outputs": [
    {
     "name": "stdout",
     "output_type": "stream",
     "text": [
      "HTTP Request: POST https://api.openai.com/v1/chat/completions \"HTTP/1.1 200 OK\"\n",
      "Selecting retriever 1: The question 'equality of opportunities' requires specific context related to the Saudi 2030 Vision, making option 2 the most relevant choice..\n",
      "HTTP Request: POST https://api.openai.com/v1/embeddings \"HTTP/1.1 200 OK\"\n",
      "36 35 39 40 72 "
     ]
    }
   ],
   "source": [
    "for node in retriever.retrieve(\"equality of opportunities\"):\n",
    "    print(node.metadata['page_label'], end=' ')"
   ]
  },
  {
   "cell_type": "code",
   "execution_count": 45,
   "metadata": {},
   "outputs": [],
   "source": [
    "from llama_index.core.query_engine import RetrieverQueryEngine\n",
    "saudi_vision = RetrieverQueryEngine.from_args(\n",
    "    retriever=retriever,\n",
    "    response_synthesizer=None,\n",
    "    llm=None,\n",
    "    node_postprocessors=[SkipEvenPages()]\n",
    ")"
   ]
  },
  {
   "cell_type": "code",
   "execution_count": 46,
   "metadata": {},
   "outputs": [
    {
     "name": "stdout",
     "output_type": "stream",
     "text": [
      "HTTP Request: POST https://api.openai.com/v1/chat/completions \"HTTP/1.1 200 OK\"\n",
      "Selecting retriever 1: The question 'equality of opportunities' requires specific context related to the Saudi 2030 Vision, making option 2 the most relevant choice..\n",
      "HTTP Request: POST https://api.openai.com/v1/embeddings \"HTTP/1.1 200 OK\"\n",
      "HTTP Request: POST https://api.openai.com/v1/chat/completions \"HTTP/1.1 200 OK\"\n"
     ]
    }
   ],
   "source": [
    "_ = saudi_vision.query('equality of opportunities')"
   ]
  },
  {
   "cell_type": "code",
   "execution_count": 47,
   "metadata": {},
   "outputs": [
    {
     "data": {
      "text/plain": [
       "[NodeWithScore(node=TextNode(id_='b93ea0fa-437b-4fd8-892f-1b9cb81a20dd', embedding=None, metadata={'page_label': '35', 'file_name': 'saudi2030.pdf', 'file_path': 'data/saudi2030.pdf', 'file_type': 'application/pdf', 'file_size': 3823127, 'creation_date': '2024-12-03', 'last_modified_date': '2024-12-03'}, excluded_embed_metadata_keys=['file_name', 'file_type', 'file_size', 'creation_date', 'last_modified_date', 'last_accessed_date'], excluded_llm_metadata_keys=['file_name', 'file_type', 'file_size', 'creation_date', 'last_modified_date', 'last_accessed_date'], relationships={<NodeRelationship.SOURCE: '1'>: RelatedNodeInfo(node_id='6adf54ae-0719-4e36-b24c-a08722764427', node_type='4', metadata={'page_label': '35', 'file_name': 'saudi2030.pdf', 'file_path': 'data/saudi2030.pdf', 'file_type': 'application/pdf', 'file_size': 3823127, 'creation_date': '2024-12-03', 'last_modified_date': '2024-12-03'}, hash='90e064aaecbe8370d64f3367e36c57f635d887918f13dba437d3f2012c66167f')}, metadata_template='{key}: {value}', metadata_separator='\\n', text='LEARNING    \\nFOR\\nWORKING \\nWe will continue investing in education and training so \\nthat our young men and women are equipped for the \\njobs of the future. We want Saudi children, wherever \\nthey live, to enjoy higher quality, multi-faceted \\neducation. We will invest particularly in developing \\nearly childhood education, refining our national \\ncurriculum and training our teachers and educational \\nleaders.\\nWe will also redouble efforts to ensure that the \\noutcomes of our education system are in line with \\nmarket needs. We have launched the National Labor \\nGateway (TAQAT), and we plan to establish sector \\ncouncils that will precisely determine the skills and \\nknowledge required by each socio-economic sector. We \\nwill also expand vocational training in order to drive \\nforward economic development. Our scholarship \\nopportunities will be steered towards prestigious \\ninternational universities and be awarded in the fields \\nthat serve our national priorities. We will also focus on \\ninnovation in advanced technologies and \\nentrepreneurship.\\nTHE SKILLS AND COMPETENCIES OF OUR \\nCHILDREN ARE ONE OF THE MOST \\nIMPORTANT AND CHERISHED ASSETS. TO \\nMAKE THE MOST OF THEIR POTENTIAL, \\nWE WILL BUILD A CULTURE THAT \\nREWARDS DETERMINATION, PROVIDES \\nOPPORTUNITIES FOR ALL AND HELPS \\nEVERYONE ACQUIRE THE NECESSARY \\nBOOSTING OUR SMALL \\nBUSINESSES AND \\nPRODUCTIVE FAMILIES\\nSmall and medium-sized enterprises (SMEs) are among \\nthe most important agents of economic growth; they \\ncreate jobs, support innovation and boost exports. \\nSMEs in the Kingdom are not yet major contributors to \\nour GDP , especially when compared to advanced \\neconomies. Therefore, we will strive to create suitable \\njob opportunities for our citizens by supporting SME \\nentrepreneurship, privatization and investments in new \\nindustries. To help us achieve this goal, we have \\nestablished the SME Authority and we will continue \\nencouraging our young entrepreneurs with business-\\nfriendly regulations, easier access to funding, \\ninternational partnerships and a greater share of \\nnational procurement and government bids.\\nOur productive families now enjoy vast marketing \\nopportunities through social media and digital \\nplatforms. We will facilitate access to these channels, \\nenable microfinance and motivate the non-profit sector \\nto build the capabilities of our productive families and \\nfund their initiatives.\\nA THRIVING ECONOMY..\\nREWARDING OPPORTUNITIES\\n36', mimetype='text/plain', start_char_idx=0, end_char_idx=2430, metadata_seperator='\\n', text_template='{metadata_str}\\n\\n{content}'), score=0.3784450776588455),\n",
       " NodeWithScore(node=TextNode(id_='09a41d8c-a3b6-42fa-9765-fc0252f88e4f', embedding=None, metadata={'page_label': '39', 'file_name': 'saudi2030.pdf', 'file_path': 'data/saudi2030.pdf', 'file_type': 'application/pdf', 'file_size': 3823127, 'creation_date': '2024-12-03', 'last_modified_date': '2024-12-03'}, excluded_embed_metadata_keys=['file_name', 'file_type', 'file_size', 'creation_date', 'last_modified_date', 'last_accessed_date'], excluded_llm_metadata_keys=['file_name', 'file_type', 'file_size', 'creation_date', 'last_modified_date', 'last_accessed_date'], relationships={<NodeRelationship.SOURCE: '1'>: RelatedNodeInfo(node_id='473fe8a8-5e70-4a98-a4a4-b20a8a404d4d', node_type='4', metadata={'page_label': '39', 'file_name': 'saudi2030.pdf', 'file_path': 'data/saudi2030.pdf', 'file_type': 'application/pdf', 'file_size': 3823127, 'creation_date': '2024-12-03', 'last_modified_date': '2024-12-03'}, hash='33c1efa4730a0423f361c5fc40ce603972843517807098d4f1804ae5f39e8ff7')}, metadata_template='{key}: {value}', metadata_separator='\\n', text='AMONG OUR \\nCOMMITMENTS.. \\nAN EDUCATION THAT \\nCONTRIBUTES TO \\nECONOMIC GROWTH\\nWe will close the gap between the outputs of higher \\neducation and the requirements of the job market. We \\nwill also help our students make careful career \\ndecisions, while at the same time training them and \\nfacilitating their transition between different \\neducational pathways. In the year 2030, we aim to \\nhave at least five Saudi universities among the top 200 \\nuniversities in international rankings. We shall help our \\nstudents achieve results above international averages \\nin global education indicators.\\nTo this end, we will prepare a modern curriculum \\nfocused on rigorous standards in literacy, numeracy, \\nskills and character development. We will track \\nprogress and publish a sophisticated range of \\neducation outcomes, showing year-on-year \\nimprovements. We will work closely with the private \\nsector to ensure higher education outcomes are in line \\nwith the requirements of job market. We will invest in \\nstrategic partnerships with apprenticeship providers, \\nnew skills councils from industry, and large private \\ncompanies. We will also work towards developing the \\njob specifications of every education field. Furthermore, \\n40', mimetype='text/plain', start_char_idx=0, end_char_idx=1219, metadata_seperator='\\n', text_template='{metadata_str}\\n\\n{content}'), score=0.3645285869269589)]"
      ]
     },
     "execution_count": 47,
     "metadata": {},
     "output_type": "execute_result"
    }
   ],
   "source": [
    "_.source_nodes"
   ]
  },
  {
   "cell_type": "code",
   "execution_count": null,
   "metadata": {},
   "outputs": [],
   "source": []
  }
 ],
 "metadata": {
  "kernelspec": {
   "display_name": "Python 3",
   "language": "python",
   "name": "python3"
  },
  "language_info": {
   "codemirror_mode": {
    "name": "ipython",
    "version": 3
   },
   "file_extension": ".py",
   "mimetype": "text/x-python",
   "name": "python",
   "nbconvert_exporter": "python",
   "pygments_lexer": "ipython3",
   "version": "3.11.10"
  }
 },
 "nbformat": 4,
 "nbformat_minor": 2
}
